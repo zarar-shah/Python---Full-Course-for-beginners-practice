{
 "cells": [
  {
   "cell_type": "markdown",
   "metadata": {},
   "source": [
    "# Python Full Course for Beginners Practice: "
   ]
  },
  {
   "cell_type": "code",
   "execution_count": 1,
   "metadata": {},
   "outputs": [
    {
     "name": "stdout",
     "output_type": "stream",
     "text": [
      "    /|\n",
      "   / | \n",
      "  /  |\n",
      " /   |\n",
      "/____| \n"
     ]
    }
   ],
   "source": [
    "print(\"    /|\")\n",
    "print(\"   / | \")\n",
    "print(\"  /  |\")\n",
    "print(\" /   |\")\n",
    "print(\"/____| \")"
   ]
  },
  {
   "cell_type": "code",
   "execution_count": 9,
   "metadata": {},
   "outputs": [
    {
     "name": "stdout",
     "output_type": "stream",
     "text": [
      "Giraffe Academy\n",
      "Giraffe Academyis cool\n",
      "giraffe academy\n",
      "GIRAFFE ACADEMY\n",
      "False\n",
      "True\n"
     ]
    }
   ],
   "source": [
    "phrase = \"Giraffe Academy\"\n",
    "print(phrase)\n",
    "print(phrase + \"is cool\")\n",
    "print(phrase.lower())\n",
    "print(phrase.upper())\n",
    "print(phrase.isupper())\n",
    "print(phrase.upper().isupper())"
   ]
  },
  {
   "cell_type": "code",
   "execution_count": 10,
   "metadata": {},
   "outputs": [
    {
     "name": "stdout",
     "output_type": "stream",
     "text": [
      "Giraffe Academy\n",
      "r\n",
      "f\n",
      "8\n"
     ]
    }
   ],
   "source": [
    "print(phrase)\n",
    "print(phrase[2])\n",
    "print(phrase[4])\n",
    "print(phrase.index(\"A\"))"
   ]
  },
  {
   "cell_type": "code",
   "execution_count": 11,
   "metadata": {},
   "outputs": [
    {
     "name": "stdout",
     "output_type": "stream",
     "text": [
      "Giraffe Academy\n",
      "Monkey Academy\n"
     ]
    }
   ],
   "source": [
    "print(phrase)\n",
    "print(phrase.replace(\"Giraffe\", \"Monkey\"))"
   ]
  },
  {
   "cell_type": "code",
   "execution_count": 12,
   "metadata": {},
   "outputs": [
    {
     "name": "stdout",
     "output_type": "stream",
     "text": [
      "-2.32\n",
      "1\n",
      "17\n",
      "7\n"
     ]
    }
   ],
   "source": [
    "print(-2.32)\n",
    "print(10%3)\n",
    "print(230//13)\n",
    "print(673%9)"
   ]
  },
  {
   "cell_type": "code",
   "execution_count": 18,
   "metadata": {},
   "outputs": [
    {
     "name": "stdout",
     "output_type": "stream",
     "text": [
      "-676 is my favourite number.\n",
      "676\n",
      "16\n",
      "256\n",
      "44\n",
      "53\n"
     ]
    }
   ],
   "source": [
    "my_num = -676\n",
    "print(str(my_num)+ \" is my favourite number.\")\n",
    "print(abs(my_num))\n",
    "print(pow(2, 4))\n",
    "print(pow(4, 4))\n",
    "print(round(43.7689))\n",
    "print(round(53.2))"
   ]
  },
  {
   "cell_type": "code",
   "execution_count": 19,
   "metadata": {},
   "outputs": [
    {
     "name": "stdout",
     "output_type": "stream",
     "text": [
      "4\n",
      "8\n",
      "7.0\n",
      "33\n",
      "88\n"
     ]
    }
   ],
   "source": [
    "from math import *\n",
    "print(floor(4.6))\n",
    "print(ceil(7.1))\n",
    "print(sqrt(49))\n",
    "print(floor(33.99))\n",
    "print(ceil(87.1))"
   ]
  },
  {
   "cell_type": "code",
   "execution_count": 21,
   "metadata": {},
   "outputs": [
    {
     "name": "stdout",
     "output_type": "stream",
     "text": [
      "Enter your first number: 3\n",
      "Enter your second number: 4\n",
      "The sum of both of your numbers is: 7\n"
     ]
    }
   ],
   "source": [
    "num1=int(input(\"Enter your first number: \"))\n",
    "num2=int(input(\"Enter your second number: \"))\n",
    "print(\"The sum of both of your numbers is:\", num1+num2)"
   ]
  },
  {
   "cell_type": "code",
   "execution_count": null,
   "metadata": {},
   "outputs": [],
   "source": []
  }
 ],
 "metadata": {
  "kernelspec": {
   "display_name": "Python 3",
   "language": "python",
   "name": "python3"
  },
  "language_info": {
   "codemirror_mode": {
    "name": "ipython",
    "version": 3
   },
   "file_extension": ".py",
   "mimetype": "text/x-python",
   "name": "python",
   "nbconvert_exporter": "python",
   "pygments_lexer": "ipython3",
   "version": "3.7.0"
  }
 },
 "nbformat": 4,
 "nbformat_minor": 2
}
