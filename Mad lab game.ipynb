{
 "cells": [
  {
   "cell_type": "code",
   "execution_count": 1,
   "metadata": {},
   "outputs": [
    {
     "name": "stdout",
     "output_type": "stream",
     "text": [
      "Enter a colour name: red\n",
      "Enter a plural noun: lions\n",
      "Enter a celebrity name: Alexandra\n",
      "Roses are red\n",
      "lions are red\n",
      "I love Alexandra\n"
     ]
    }
   ],
   "source": [
    "colour = input(\"Enter a colour name: \")\n",
    "plural_noun= input(\"Enter a plural noun: \")\n",
    "celebrity = input(\"Enter a celebrity name: \")\n",
    "\n",
    "print(\"Roses are \"+ colour)\n",
    "print(plural_noun + \" are \"+colour)\n",
    "print(\"I love \"+celebrity)"
   ]
  },
  {
   "cell_type": "code",
   "execution_count": 3,
   "metadata": {
    "scrolled": true
   },
   "outputs": [
    {
     "name": "stdout",
     "output_type": "stream",
     "text": [
      "['karen', 'kyo', 'kim', 'jake', 'john']\n",
      "kyo\n",
      "john\n",
      "john\n",
      "kim\n",
      "['kyo', 'kim']\n",
      "['jake']\n"
     ]
    }
   ],
   "source": [
    "friends = ['karen','kyo','kim','jake','john']\n",
    "print(friends)\n",
    "print(friends[1])\n",
    "print(friends[4])\n",
    "print(friends[-1])\n",
    "print(friends[-3])\n",
    "print(friends[1:3])\n",
    "print(friends[3:4])\n"
   ]
  },
  {
   "cell_type": "code",
   "execution_count": 18,
   "metadata": {},
   "outputs": [
    {
     "name": "stdout",
     "output_type": "stream",
     "text": [
      "['karen', 'kyo', 'kim', 'jake', 'john', 'danial', 'jim', 'tom', 'ryan', 'kevin']\n",
      "['karen', 'kyo', 'natasha', 'kim', 'jake', 'john', 'danial', 'jim', 'tom', 'ryan', 'kevin']\n",
      "['karen', 'kyo', 'natasha', 'kim', 'jake', 'john', 'danial', 'jim', 'tom', 'ryan', 'leo', 'kevin']\n",
      "['karen', 'kyo', 'natasha', 'kim', 'jake', 'john', 'danial', 'jim', 'tom', 'ryan', 'leo']\n",
      "['karen', 'kyo', 'natasha', 'kim', 'jake', 'john', 'danial', 'jim', 'tom', 'ryan', 'leo', 'steve']\n",
      "['karen', 'kyo', 'natasha', 'kim', 'jake', 'john', 'danial', 'jim', 'tom', 'ryan', 'leo', 'steve', 'robbert']\n",
      "['karen', 'kyo', 'natasha', 'kim', 'jake', 'john', 'danial', 'jim', 'tom', 'ryan', 'leo', 'steve']\n",
      "['karen', 'kyo', 'natasha', 'jake', 'john', 'danial', 'jim', 'tom', 'ryan', 'leo', 'steve']\n",
      "['karen', 'kyo', 'natasha', 'jake', 'john', 'danial', 'jim', 'ryan', 'leo', 'steve']\n",
      "2\n",
      "1\n",
      "['danial', 'jake', 'jim', 'john', 'karen', 'kyo', 'leo', 'natasha', 'ryan', 'steve']\n"
     ]
    }
   ],
   "source": [
    "school_friends = ['danial','jim','tom','ryan','kevin']\n",
    "friends = ['karen','kyo','kim','jake','john']\n",
    "\n",
    "friends.extend(school_friends)\n",
    "print(friends)\n",
    "\n",
    "friends.insert(2, 'natasha')\n",
    "print(friends)\n",
    "\n",
    "friends.insert(-1, 'leo')\n",
    "print(friends)\n",
    "\n",
    "friends.pop()\n",
    "print(friends)\n",
    "\n",
    "friends.append('steve')\n",
    "print(friends)\n",
    "\n",
    "friends.append('robbert')\n",
    "print(friends)\n",
    "\n",
    "friends.pop()\n",
    "print(friends)\n",
    "\n",
    "friends.remove('kim')\n",
    "print(friends)\n",
    "\n",
    "friends.remove('tom')\n",
    "print(friends)\n",
    "\n",
    "print(friends.index('natasha'))\n",
    "\n",
    "print(friends.count('john'))\n",
    "\n",
    "friends.sort()\n",
    "print(friends)"
   ]
  },
  {
   "cell_type": "code",
   "execution_count": 22,
   "metadata": {},
   "outputs": [
    {
     "name": "stdout",
     "output_type": "stream",
     "text": [
      "['2', '8', '22', '12', '11', '4', '7', '18', '10', '5']\n",
      "10\n",
      "['10', '11', '12', '18', '2', '22', '4', '5', '7', '8']\n",
      "['8', '7', '5', '4', '22', '2', '18', '12', '11', '10']\n",
      "['danial', 'jake', 'jim', 'john', 'karen', 'kyo', 'leo', 'natasha', 'ryan', 'steve']\n"
     ]
    }
   ],
   "source": [
    "numbers = ['2','8','22','12','11','4','7','18','10','5']\n",
    "print(numbers)\n",
    "print(len(numbers))\n",
    "\n",
    "numbers.sort()\n",
    "print(numbers)\n",
    "\n",
    "numbers.reverse()\n",
    "print(numbers)\n",
    "\n",
    "friends2= friends.copy()\n",
    "print(friends2)"
   ]
  },
  {
   "cell_type": "code",
   "execution_count": null,
   "metadata": {},
   "outputs": [],
   "source": []
  }
 ],
 "metadata": {
  "kernelspec": {
   "display_name": "Python 3",
   "language": "python",
   "name": "python3"
  },
  "language_info": {
   "codemirror_mode": {
    "name": "ipython",
    "version": 3
   },
   "file_extension": ".py",
   "mimetype": "text/x-python",
   "name": "python",
   "nbconvert_exporter": "python",
   "pygments_lexer": "ipython3",
   "version": "3.7.0"
  }
 },
 "nbformat": 4,
 "nbformat_minor": 2
}
